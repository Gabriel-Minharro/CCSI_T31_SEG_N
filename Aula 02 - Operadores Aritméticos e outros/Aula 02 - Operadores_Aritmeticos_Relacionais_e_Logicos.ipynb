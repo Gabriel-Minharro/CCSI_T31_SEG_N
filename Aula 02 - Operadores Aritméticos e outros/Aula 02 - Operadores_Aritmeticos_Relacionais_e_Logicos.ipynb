{
  "nbformat": 4,
  "nbformat_minor": 2,
  "metadata": {
    "celltoolbar": "Slideshow",
    "kernelspec": {
      "display_name": "Python [conda env:root] *",
      "language": "python",
      "name": "conda-root-py"
    },
    "language_info": {
      "codemirror_mode": {
        "name": "ipython",
        "version": 3
      },
      "file_extension": ".py",
      "mimetype": "text/x-python",
      "name": "python",
      "nbconvert_exporter": "python",
      "pygments_lexer": "ipython3",
      "version": "3.9.2"
    },
    "rise": {
      "autolaunch": true,
      "enable_chalkboard": true,
      "progress": true,
      "scroll": true,
      "slideNumber": true
    },
    "colab": {
      "name": "Aula_1_Operadores_Aritmeticos_Relacionais_e_Logicos.ipynb",
      "provenance": []
    }
  },
  "cells": [
    {
      "cell_type": "markdown",
      "source": [
        "# Operadores Aritméticos, Relacionais e Lógicos\n",
        "\n",
        "**Objetivos**: Apresentar variáveis, operadores aritméticos, relacionais e lógicos utilizados em Python."
      ],
      "metadata": {
        "id": "4Gu4shjauS1h"
      }
    },
    {
      "cell_type": "markdown",
      "source": [
        "Documentação Python 3: https://docs.python.org/3/library/index.html"
      ],
      "metadata": {
        "id": "NqP2_qgGuS1i"
      }
    },
    {
      "cell_type": "markdown",
      "source": [
        "## Variáveis\n",
        "\n",
        "Uma variável reserva espaço de memória para armazenar um certo tipo de dado e\n",
        "relacionado a um nome para referenciar o seu conteúdo (nome da variável).\n",
        "\n",
        "3 tipos básicos:\n",
        "* Numérico\n",
        "* Texto (String)\n",
        "* Lógico (Booleano)"
      ],
      "metadata": {
        "id": "xMs8PW7OuS1j"
      }
    },
    {
      "cell_type": "markdown",
      "source": [
        "### Variáveis Numéricas\n",
        "\n",
        "Podem ser de dois tipos:\n",
        "* `int`: número inteiro\n",
        "* `float`: número real (ponto flutuante)"
      ],
      "metadata": {
        "id": "0tKJ6EoiuS1k"
      }
    },
    {
      "cell_type": "code",
      "execution_count": 4,
      "source": [
        "# isto é um comentário\n",
        "x = 10 # int\n",
        "y = 8.9 # float\n",
        "\n",
        "print(type(x))\n",
        "print(type(y))\n",
        "#type(x), type(y)"
      ],
      "outputs": [
        {
          "output_type": "stream",
          "name": "stdout",
          "text": [
            "<class 'int'>\n",
            "<class 'float'>\n"
          ]
        }
      ],
      "metadata": {
        "id": "eCR-buKcuS1k",
        "outputId": "a8abf4c0-5b5b-4099-ef8f-dcdaf74edc65",
        "colab": {
          "base_uri": "https://localhost:8080/"
        }
      }
    },
    {
      "cell_type": "markdown",
      "source": [
        "### Variáveis de Texto (`string`)\n",
        "\n",
        "Qualquer texto é uma `string`\n",
        "\n",
        "Documentação do comando `print()`: https://docs.python.org/3/library/functions.html#print"
      ],
      "metadata": {
        "id": "KjuprsV1uS1m"
      }
    },
    {
      "cell_type": "code",
      "execution_count": 20,
      "source": [
        "universidade = 'UNINOVE'\n",
        "logo = 'uni9 é 10'\n",
        "professor = 'Edson Melo de Souza'\n",
        "\n",
        "print(type(logo))\n",
        "#len() calcula o tamanho de uma variável string\n",
        "print('Número de caracteres do logo: ', len(logo)) # usando ,\n",
        "print('Bem-vindo à ' + universidade +\n",
        "      ', o seu professor é ' + professor) # usando +\n",
        "\n",
        "print(\"Hoje\", \"é\", \"segunda-feira\")\n",
        "print(\"Hoje \" + 'é ' + \"segunda\", \"feira\")\n",
        "print('')\n",
        "print(\"'Edson' Melo de Souza\")\n",
        "print('\"Edson\" Melo de Souza')\n",
        "print('')\n",
        "print(\"\\\"Edson\\\" Melo de Souza\")\n",
        "\n",
        "## Caracteres de escape\n",
        "print('\\nTotal 1:', 10)\n",
        "print('\\n\\n\\n\\t\\tTotal 2:', 100)\n",
        "print('\\nTotal 3:', 1000)"
      ],
      "outputs": [
        {
          "output_type": "stream",
          "name": "stdout",
          "text": [
            "<class 'str'>\n",
            "Número de caracteres do logo:  9\n",
            "Bem-vindo à UNINOVE, o seu professor é Edson Melo de Souza\n",
            "Hoje é segunda-feira\n",
            "Hoje é segunda feira\n",
            "\n",
            "'Edson' Melo de Souza\n",
            "\"Edson\" Melo de Souza\n",
            "\n",
            "\"Edson\" Melo de Souza\n",
            "\n",
            "Total 1: 10\n",
            "\n",
            "\n",
            "\n",
            "\t\tTotal 2: 100\n",
            "\n",
            "Total 3: 1000\n"
          ]
        }
      ],
      "metadata": {
        "id": "P0B2OZEIuS1n",
        "outputId": "c9de4919-718e-4e63-b13c-54ca127235d9",
        "colab": {
          "base_uri": "https://localhost:8080/"
        }
      }
    },
    {
      "cell_type": "markdown",
      "source": [
        "### Variáveis Lógicas (`bool`)\n",
        "\n",
        "* Verdadeiro = `True` = $1$\n",
        "* Falso = `False` = $0$"
      ],
      "metadata": {
        "id": "-ZZa8AEyuS1o"
      }
    },
    {
      "cell_type": "code",
      "execution_count": 21,
      "source": [
        "mortalidade = True\n",
        "\n",
        "print(mortalidade)\n",
        "print(type(mortalidade))"
      ],
      "outputs": [
        {
          "output_type": "stream",
          "name": "stdout",
          "text": [
            "True\n",
            "<class 'bool'>\n"
          ]
        }
      ],
      "metadata": {
        "id": "TK8eK0v9uS1q",
        "outputId": "92115dcb-080f-48bb-ce23-b435fbdc339b",
        "colab": {
          "base_uri": "https://localhost:8080/"
        }
      }
    },
    {
      "cell_type": "markdown",
      "source": [
        "## Leitura de Dados do Teclado\n",
        "\n",
        "A função utilizada para efetuar a leitura de dados a partir do teclado é a função `input()`."
      ],
      "metadata": {
        "id": "5My3OPj4uS1q"
      }
    },
    {
      "cell_type": "code",
      "execution_count": 24,
      "source": [
        "print(\"dados do aluno\")\n",
        "nome = input(\"informe seu nome: \") # vai gerar um prompt de leitura\n",
        "idade = input (\"informe sua idade: \")\n",
        "print (nome, \"você tem\", idade, \"anos!!!\")\n",
        "\n",
        "# input é uma entrada de dados via teclado"
      ],
      "outputs": [
        {
          "output_type": "stream",
          "name": "stdout",
          "text": [
            "dados do aluno\n",
            "informe seu nome: Edson\n",
            "informe sua idade: 30\n",
            "Edson você tem 30 anos!!!\n"
          ]
        }
      ],
      "metadata": {
        "id": "fOcEzJiRuS1q",
        "outputId": "232aff0f-d07b-4303-d9a9-c89901137b8a",
        "colab": {
          "base_uri": "https://localhost:8080/"
        }
      }
    },
    {
      "cell_type": "markdown",
      "source": [
        "## Operadores Aritméticos\n",
        "\n",
        "* Soma `x + y`\n",
        "* Subtração `x - y`\n",
        "* Multiplicação `x * y`\n",
        "* Divisão `x / y`\n",
        "* Divisão desconsiderando a parte fracionária `x // y`\n",
        "* Resto de uma divisão `x % y`\n",
        "* Absoluto `abs(x)`\n",
        "* Converter para Inteiro `int(x)`\n",
        "* Converter para Real `float(x)`\n",
        "* Potência `x ** y`"
      ],
      "metadata": {
        "id": "HRpjj9EBuS1r"
      }
    },
    {
      "cell_type": "code",
      "execution_count": 35,
      "source": [
        "x = 10\n",
        "y = 3\n",
        "\n",
        "print('Soma: ', x + y)\n",
        "print('Subtração: ', x - y)\n",
        "print('Multiplicação: ', x * y)\n",
        "print('Divisão: ', x / y)\n",
        "print('Divisão desconsiderando a parte fracionária: ', x // y)\n",
        "print('Módulo - Resto de uma divisão: ', x % y)\n",
        "print('x elevado à y potência: ', x ** y)\n",
        "print()\n",
        "print(\"10 elevado ao quadrado é = \" + str( (10**2) ) )\n",
        "print(\"10 elevado ao quadrado é =\", 10**1 )"
      ],
      "outputs": [
        {
          "output_type": "stream",
          "name": "stdout",
          "text": [
            "Soma:  13\n",
            "Subtração:  7\n",
            "Multiplicação:  30\n",
            "Divisão:  3.3333333333333335\n",
            "Divisão desconsiderando a parte fracionária:  3\n",
            "Módulo - Resto de uma divisão:  1\n",
            "x elevado à y potência:  1000\n",
            "\n",
            "10 elevado ao quadrado é = 100\n",
            "10 elevado ao quadrado é = 10\n"
          ]
        }
      ],
      "metadata": {
        "id": "S7oeXfrnuS1r",
        "outputId": "4447c86c-de56-4f05-99c1-16ece82061a8",
        "colab": {
          "base_uri": "https://localhost:8080/"
        }
      }
    },
    {
      "cell_type": "markdown",
      "source": [
        "### Arredondamento, Piso e Teto"
      ],
      "metadata": {
        "id": "Xupx2djXuS1s"
      }
    },
    {
      "cell_type": "code",
      "execution_count": 41,
      "source": [
        "import math # lê-se mafe\n",
        "# Documentação: https://docs.python.org/pt-br/3/library/math.html\n",
        "\n",
        "print('round: ', round(3.33)) # arredondamento para cima\n",
        "print('floor: ', math.floor(3.33)) # arredonda para o mais próximo\n",
        "print('ceil: ', math.ceil(1.01)) ## arredonda para o valor superior"
      ],
      "outputs": [
        {
          "output_type": "stream",
          "name": "stdout",
          "text": [
            "round:  3\n",
            "floor:  3\n",
            "ceil:  2\n"
          ]
        }
      ],
      "metadata": {
        "id": "ffb3LnwCuS1s",
        "outputId": "268f615e-2a5e-43ca-c125-83c9a3657432",
        "colab": {
          "base_uri": "https://localhost:8080/"
        }
      }
    },
    {
      "cell_type": "code",
      "execution_count": 46,
      "source": [
        "# Cortando casas no arredondamento\n",
        "x = 3.789123546\n",
        "print(round(x, 4))\n",
        "print(round(x, 3))\n",
        "print(round(x, 2))\n",
        "print(round(x, 1))\n",
        "print(round(x, 0))"
      ],
      "outputs": [
        {
          "output_type": "stream",
          "name": "stdout",
          "text": [
            "3.7891\n",
            "3.789\n",
            "3.79\n",
            "3.8\n",
            "3.789123546\n"
          ]
        }
      ],
      "metadata": {
        "id": "e4iNhBVfSxkX",
        "outputId": "9afdf38c-4f52-4ea5-9116-98708c8d4b65",
        "colab": {
          "base_uri": "https://localhost:8080/"
        }
      }
    },
    {
      "cell_type": "code",
      "execution_count": 51,
      "source": [
        "# importar apenas uma funcionalidade de uma biblioteca\n",
        "#from math import sqrt # raíz quadrada (square root)\n",
        "sqrt(2)\n",
        "\n",
        "from math import floor, ceil, sqrt\n",
        "sqrt(2)"
      ],
      "outputs": [
        {
          "output_type": "execute_result",
          "data": {
            "text/plain": [
              "1.4142135623730951"
            ]
          },
          "metadata": {
            "tags": []
          },
          "execution_count": 51
        }
      ],
      "metadata": {
        "id": "GeiAdY2YTvcc",
        "outputId": "c9b45385-8bfd-4e95-cd7b-070a0e5cc1de",
        "colab": {
          "base_uri": "https://localhost:8080/"
        }
      }
    },
    {
      "cell_type": "code",
      "execution_count": 50,
      "source": [
        "import math as m # `as` é um apelido (alias) para uma importação\n",
        "m.sqrt(2)"
      ],
      "outputs": [
        {
          "output_type": "execute_result",
          "data": {
            "text/plain": [
              "1.4142135623730951"
            ]
          },
          "metadata": {
            "tags": []
          },
          "execution_count": 50
        }
      ],
      "metadata": {
        "id": "bLqo4jwjUcdg",
        "outputId": "2616d9b7-0951-415c-ca97-e3984a4258d4",
        "colab": {
          "base_uri": "https://localhost:8080/"
        }
      }
    },
    {
      "cell_type": "markdown",
      "source": [
        "# Treinando\n",
        "\n",
        "Fazer a leitura de 3 variáveis via teclado e calcular a potência de 3 de cada uma delas\n"
      ],
      "metadata": {
        "id": "xqesD1rbVABS"
      }
    },
    {
      "cell_type": "code",
      "execution_count": 56,
      "source": [
        "a = input('Valor de a: ')\n",
        "b = float(input('Valor de b: '))\n",
        "c = int(input('Valor de c: '))\n",
        "\n",
        "print(int(a) ** 3)\n",
        "print(b ** 3)\n",
        "print(c ** 3)"
      ],
      "outputs": [
        {
          "output_type": "stream",
          "name": "stdout",
          "text": [
            "Valor de a: 2\n",
            "Valor de b: 2\n",
            "Valor de c: 2\n",
            "8\n",
            "8.0\n",
            "8\n"
          ]
        }
      ],
      "metadata": {
        "id": "SHn_7AfrWQvt",
        "outputId": "51f82831-a409-4e61-dbfd-02ec99508ef0",
        "colab": {
          "base_uri": "https://localhost:8080/"
        }
      }
    },
    {
      "cell_type": "code",
      "execution_count": 58,
      "source": [
        "import math\n",
        "# pow() é uma função de `math` que significa potência: pow(base, expoente)\n",
        "pow(float(input(\"Digite a base: \")), 3)"
      ],
      "outputs": [
        {
          "output_type": "stream",
          "name": "stdout",
          "text": [
            "Digite a base: 4\n"
          ]
        },
        {
          "output_type": "execute_result",
          "data": {
            "text/plain": [
              "64.0"
            ]
          },
          "metadata": {
            "tags": []
          },
          "execution_count": 58
        }
      ],
      "metadata": {
        "id": "SlQVxMNXZ2Uq",
        "outputId": "1434b4e0-1c1c-4ffe-9e87-a8ba27c19aa8",
        "colab": {
          "base_uri": "https://localhost:8080/"
        }
      }
    },
    {
      "cell_type": "markdown",
      "source": [
        "2## Operadores Relacionais\n",
        "\n",
        "Uma condição é o estabelecimento de uma relação lógica entre dois elementos. Para definir uma relação lógica é necessário usar operadores relacionais. Uma relação lógica (comparação) retorna somente os valores verdadeiro ou falso."
      ],
      "metadata": {
        "id": "R_0TnZthuS1s"
      }
    },
    {
      "cell_type": "markdown",
      "source": [
        "* Igual a: `x == y`\n",
        "* Maior que: `x > y`\n",
        "* Menor que: `x < y`\n",
        "* Maior ou igual a: `x >= y`\n",
        "* Menor ou igual a: `x <= y`\n",
        "* Diferente de: `x != y`"
      ],
      "metadata": {
        "id": "aReEO-15uS1s"
      }
    },
    {
      "cell_type": "code",
      "execution_count": 61,
      "source": [
        "x = 3\n",
        "y = 4\n",
        "\n",
        "# um operador relacional sempre \n",
        "# retornará True ou False\n",
        "print('Igual a: ', x == y)\n",
        "print('Maior que: ', x > y)\n",
        "print('Menor que: ', x < y)\n",
        "print('Maior ou igual a: ', x >= y)\n",
        "print('Menor ou igual a: ', x <= y)\n",
        "print('Diferente de: ', x != y) # negação é !="
      ],
      "outputs": [
        {
          "output_type": "stream",
          "name": "stdout",
          "text": [
            "Igual a:  False\n",
            "Maior que:  False\n",
            "Menor que:  True\n",
            "Maior ou igual a:  False\n",
            "Menor ou igual a:  True\n",
            "Diferente de:  True\n"
          ]
        }
      ],
      "metadata": {
        "id": "u3PVqF8PuS1t",
        "outputId": "82ad4bd3-57c4-4861-aaa7-0f8ad5079356",
        "colab": {
          "base_uri": "https://localhost:8080/"
        }
      }
    },
    {
      "cell_type": "code",
      "execution_count": 63,
      "source": [
        "# 10 não é menor que 4\n",
        "print(10 > 4)\n",
        "\n",
        "# 10 é diferente de 11\n",
        "print(10 != 11)"
      ],
      "outputs": [
        {
          "output_type": "stream",
          "name": "stdout",
          "text": [
            "True\n",
            "True\n"
          ]
        }
      ],
      "metadata": {
        "id": "b7E-Te3iUadQ",
        "outputId": "30389ac3-cbff-4997-84ab-601ce490b5fe",
        "colab": {
          "base_uri": "https://localhost:8080/"
        }
      }
    },
    {
      "cell_type": "markdown",
      "source": [
        "## Operadores Lógicos\n",
        "São utilizados para uma mesma tomada de decisão que necessite de mais de uma condição. Também são conhecidos como operadores booleanos. Operadores lógicos retornam somente os valores verdadeiro ou falso.\n",
        "\n",
        "| Operador Lógico | Função    | Prioridade |\n",
        "|-----------------|-----------|---------------------|\n",
        "| `NOT`           | Negação   | 1                   |\n",
        "| `AND`           | Conjunção | 2                   |\n",
        "| `OR`            | Disjunção | 3                   |"
      ],
      "metadata": {
        "id": "_qmG2zUDuS1t"
      }
    },
    {
      "cell_type": "code",
      "execution_count": 64,
      "source": [
        "x = 1\n",
        "y = 3\n",
        "z = 5\n",
        "w = 2\n",
        "     #  T         F  \n",
        "print(z > w and w > y)  # False\n",
        "    #   T        F\n",
        "print(z > w or w > y)   # True\n",
        "print(not y + w == z)   # False"
      ],
      "outputs": [
        {
          "output_type": "stream",
          "name": "stdout",
          "text": [
            "False\n",
            "True\n",
            "False\n"
          ]
        }
      ],
      "metadata": {
        "id": "ybneBzBGuS1t",
        "outputId": "80524ddb-6fd4-495e-d8ca-261e67685fcb",
        "colab": {
          "base_uri": "https://localhost:8080/"
        }
      }
    },
    {
      "cell_type": "code",
      "execution_count": 68,
      "source": [
        "# Vamos adiantar o IF\n",
        "\n",
        "x = 12\n",
        "y = 12\n",
        "\n",
        "if x < y:\n",
        "  print('Valor se o resultado for verdadeiro')\n",
        "else:\n",
        "  print('Eles são diferentes ou iguais')\n",
        "\n",
        "#print('Resultado após o IF')"
      ],
      "outputs": [
        {
          "output_type": "stream",
          "name": "stdout",
          "text": [
            "Eles são diferentes ou iguais\n"
          ]
        }
      ],
      "metadata": {
        "id": "fuMmJ-znc5Bt",
        "outputId": "8b17ec3b-28c7-4708-f866-39229d6092e4",
        "colab": {
          "base_uri": "https://localhost:8080/"
        }
      }
    },
    {
      "cell_type": "code",
      "execution_count": 75,
      "source": [
        "x = 12\n",
        "y = 13\n",
        "\n",
        "if x < y:\n",
        "  print('Verdade, pois', x, '<', y)\n",
        "else:\n",
        "  if x == y:\n",
        "    print('Verdade, pois', x, '==', y)\n",
        "  else:\n",
        "    print('Falso, pois', x, '!=', y)\n",
        "  \n",
        "  #print('Eles são diferentes ou iguais')"
      ],
      "outputs": [
        {
          "output_type": "stream",
          "name": "stdout",
          "text": [
            "Verdade, pois 12 < 13\n"
          ]
        }
      ],
      "metadata": {
        "id": "7LzHddOtfI3N",
        "outputId": "c731f4d4-905c-4d4c-cbf8-a7c304c60b42",
        "colab": {
          "base_uri": "https://localhost:8080/"
        }
      }
    },
    {
      "cell_type": "markdown",
      "source": [
        "# Vamos treinar\n",
        "\n",
        "1.   Implemente um programa que escreve na tela a frase \"Meu primeiro programa em Python!!!\".\n",
        "2.   Você foi contratado por uma escola pra fazer o sistema de boletim dos alunos. Como primeiro passo, escreva um programa que produza a seguinte saída (Não é necessário manter o alinhamento):\n",
        "\n",
        "| Aluno(a)        \t|  Nota \t|\n",
        "|-----------------\t|------:\t|\n",
        "| Ana Maria       \t|  9.00 \t|\n",
        "| José Carlos     \t|  7.20 \t|\n",
        "| Júlio Martins   \t|  8.00 \t|\n",
        "| Ubiratan Santos \t| 10.00 \t|\n",
        "\n",
        "3. Utilizando <strong>variáveis</strong>, faça um programa para realizar o seguinte cálculo: 10 + 20 - 30 + (45 * 3) / 8 ** 2\n",
        "4. Faça um programa que **leia duas variáveis pelo teclado** e apresente a soma entre eles\n",
        "5. Resolva a equação do 2° Grau a seguir, realizando a entrada dos valores de (a, b e c) pelo teclado. A solução real da equação é dada por $ax^2 + bx + c = 0$, fórmula de Baskara.\n",
        "\n",
        "## Exemplo:\n",
        "$a=1$, $b=3$ e $c=2$\n",
        "\n",
        "$ \\Delta = b^2 - 4ac $, com $a \\neq 0$\n",
        "\n",
        "Se $ \\Delta < 0$ então mostrar \"não há solução real\"\n",
        "\n",
        "Senão, calcular e apresentar os resultados.\n",
        "\n",
        "$ x_{1}=\\frac{-b-\\sqrt{\\Delta}}{2a} $\n",
        "<br>\n",
        " $ x_{2} = \\frac{-b +\\sqrt{\\Delta}}{2a} $"
      ],
      "metadata": {
        "id": "ZVOa1ePbg1MI"
      }
    },
    {
      "cell_type": "code",
      "execution_count": null,
      "source": [],
      "outputs": [],
      "metadata": {
        "id": "21jI3Bfrf0Uy"
      }
    }
  ]
}